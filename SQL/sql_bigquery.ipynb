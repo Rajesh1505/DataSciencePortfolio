{
 "cells": [
  {
   "cell_type": "markdown",
   "metadata": {},
   "source": [
    "# Using BigQuery to perform basic data analytics\n",
    "\n",
    "Here's a sample notebook of executing SQL commands in order to analyze some data, along with some basic visualization.\n",
    "\n",
    "We'll explore some data sets and reproduce how we might write queries for certain business problems."
   ]
  },
  {
   "cell_type": "markdown",
   "metadata": {},
   "source": [
    "### Setup"
   ]
  },
  {
   "cell_type": "code",
   "execution_count": 3,
   "metadata": {},
   "outputs": [],
   "source": [
    "# relevant installs\n",
    "# !pip install google-cloud \n",
    "# !pip install --upgrade google-cloud-bigquery[pandas] \n",
    "# !pip install google-cloud-storage"
   ]
  },
  {
   "cell_type": "code",
   "execution_count": 4,
   "metadata": {},
   "outputs": [],
   "source": [
    "%load_ext google.cloud.bigquery"
   ]
  },
  {
   "cell_type": "code",
   "execution_count": 5,
   "metadata": {},
   "outputs": [],
   "source": [
    "SERVICE_ACCOUNT= 'bq_jupyter'\n",
    "JSON_FILE_NAME = '../credentials/ds-portfolio-a04fdb631b73.json'\n",
    "GCP_PROJECT_ID = 'ds-portfolio'"
   ]
  },
  {
   "cell_type": "code",
   "execution_count": 6,
   "metadata": {},
   "outputs": [],
   "source": [
    "import subprocess\n",
    "import sys\n",
    "import logging\n",
    "import pandas as pd\n",
    "import numpy as np\n",
    "import matplotlib.pyplot as plt\n",
    "\n",
    "logger = logging.Logger('catch_all')\n",
    "\n",
    "def run_command(parameters):\n",
    "    try:\n",
    "        # \"\"\"Prints and runs a command.\"\"\"\n",
    "        return subprocess.check_output(parameters)\n",
    "    except BaseException as e: \n",
    "       logger.error(e) \n",
    "       logger.error('ERROR: Looking in jupyter console for more information')"
   ]
  },
  {
   "cell_type": "code",
   "execution_count": 7,
   "metadata": {},
   "outputs": [],
   "source": [
    "%matplotlib inline"
   ]
  },
  {
   "cell_type": "markdown",
   "metadata": {},
   "source": [
    "### Queries"
   ]
  },
  {
   "cell_type": "markdown",
   "metadata": {},
   "source": [
    "We'll be using the San Francisco Bikeshares dataset, which contains information around trips for the bikeshare program in San Francisco."
   ]
  },
  {
   "cell_type": "code",
   "execution_count": 22,
   "metadata": {},
   "outputs": [],
   "source": [
    "from google.cloud import bigquery\n",
    "\n",
    "client = bigquery.Client.from_service_account_json(JSON_FILE_NAME)\n",
    "\n",
    "def query_to_df(query):\n",
    "    # transfers query results to pandas dataframe for easy manipulating\n",
    "    return(client.query(QUERY).result().to_dataframe())\n",
    "\n",
    "def get_schema(table):\n",
    "    # retreives the schema as a printed object\n",
    "    return(client.get_table(table).schema)"
   ]
  },
  {
   "cell_type": "markdown",
   "metadata": {},
   "source": [
    "There's 4 different tables in this database. As a first step, we should look at the schema of all of these tables and see where we might be able to join for insight in future queries.\n",
    "\n",
    "The tables are...\n",
    "* bikeshare_regions\n",
    "* bikeshare_station_info\n",
    "* bikeshare_station_status\n",
    "* bikeshare_trips"
   ]
  },
  {
   "cell_type": "code",
   "execution_count": 23,
   "metadata": {},
   "outputs": [
    {
     "data": {
      "text/plain": [
       "[SchemaField('region_id', 'INTEGER', 'REQUIRED', 'Unique identifier for the region', ()),\n",
       " SchemaField('name', 'STRING', 'REQUIRED', 'Public name for this region', ())]"
      ]
     },
     "execution_count": 23,
     "metadata": {},
     "output_type": "execute_result"
    }
   ],
   "source": [
    "#bikeshare_regions\n",
    "table = 'bigquery-public-data.san_francisco_bikeshare.bikeshare_regions'\n",
    "get_schema(table)"
   ]
  },
  {
   "cell_type": "code",
   "execution_count": 24,
   "metadata": {},
   "outputs": [
    {
     "data": {
      "text/plain": [
       "[SchemaField('station_id', 'INTEGER', 'REQUIRED', 'Unique identifier of a station.', ()),\n",
       " SchemaField('name', 'STRING', 'REQUIRED', 'Public name of the station', ()),\n",
       " SchemaField('short_name', 'STRING', 'NULLABLE', 'Short name or other type of identifier, as used by the data publisher', ()),\n",
       " SchemaField('lat', 'FLOAT', 'REQUIRED', 'The latitude of station. The field value must be a valid WGS 84 latitude in decimal degrees format. See: http://en.wikipedia.org/wiki/World_Geodetic_System, https://en.wikipedia.org/wiki/Decimal_degrees', ()),\n",
       " SchemaField('lon', 'FLOAT', 'REQUIRED', 'The longitude of station. The field value must be a valid WGS 84 longitude in decimal degrees format. See: http://en.wikipedia.org/wiki/World_Geodetic_System, https://en.wikipedia.org/wiki/Decimal_degrees', ()),\n",
       " SchemaField('region_id', 'INTEGER', 'NULLABLE', 'ID of the region where station is located', ()),\n",
       " SchemaField('rental_methods', 'STRING', 'NULLABLE', 'Array of enumerables containing the payment methods accepted at this station.  Current valid values (in CAPS) are: KEY (i.e. operator issued bike key / fob / card) CREDITCARD PAYPASS APPLEPAY ANDROIDPAY TRANSITCARD ACCOUNTNUMBER PHONE This list is intended to be as comprehensive at the time of publication as possible but is subject to change, as defined in File Requirements above', ()),\n",
       " SchemaField('capacity', 'INTEGER', 'NULLABLE', 'Number of total docking points installed at this station, both available and unavailable', ()),\n",
       " SchemaField('external_id', 'STRING', 'NULLABLE', '', ()),\n",
       " SchemaField('rental_url', 'STRING', 'NULLABLE', '', ()),\n",
       " SchemaField('eightd_has_key_dispenser', 'BOOLEAN', 'NULLABLE', '', ()),\n",
       " SchemaField('has_kiosk', 'BOOLEAN', 'NULLABLE', '', ()),\n",
       " SchemaField('station_geom', 'GEOGRAPHY', 'NULLABLE', '', ())]"
      ]
     },
     "execution_count": 24,
     "metadata": {},
     "output_type": "execute_result"
    }
   ],
   "source": [
    "#bikeshare_station_info\n",
    "table = 'bigquery-public-data.san_francisco_bikeshare.bikeshare_station_info'\n",
    "get_schema(table)"
   ]
  },
  {
   "cell_type": "code",
   "execution_count": 26,
   "metadata": {},
   "outputs": [
    {
     "data": {
      "text/plain": [
       "[SchemaField('station_id', 'INTEGER', 'REQUIRED', 'Unique identifier of a station', ()),\n",
       " SchemaField('num_bikes_available', 'INTEGER', 'REQUIRED', 'Number of bikes available for rental', ()),\n",
       " SchemaField('num_bikes_disabled', 'INTEGER', 'NULLABLE', 'Number of disabled bikes at the station. Vendors who do not want to publicize the number of disabled bikes or docks in their system can opt to omit station capacity (in station_information), num_bikes_disabled and num_docks_disabled. If station capacity is published then broken docks/bikes can be inferred (though not specifically whether the decreased capacity is a broken bike or dock)', ()),\n",
       " SchemaField('num_docks_available', 'INTEGER', 'REQUIRED', 'Number of docks accepting bike returns', ()),\n",
       " SchemaField('num_docks_disabled', 'INTEGER', 'NULLABLE', 'Number of empty but disabled dock points at the station. This value remains as part of the spec as it is possibly useful during development', ()),\n",
       " SchemaField('is_installed', 'BOOLEAN', 'REQUIRED', '1/0 boolean - is the station currently on the street', ()),\n",
       " SchemaField('is_renting', 'BOOLEAN', 'REQUIRED', '1/0 boolean - is the station currently renting bikes (even if the station is empty, if it is set to allow rentals this value should be 1)', ()),\n",
       " SchemaField('is_returning', 'BOOLEAN', 'REQUIRED', '1/0 boolean - is the station accepting bike returns (if a station is full but would allow a return if it was not full then this value should be 1)', ()),\n",
       " SchemaField('last_reported', 'INTEGER', 'REQUIRED', 'Integer POSIX timestamp indicating the last time this station reported its status to the backend', ()),\n",
       " SchemaField('num_ebikes_available', 'INTEGER', 'NULLABLE', '', ()),\n",
       " SchemaField('eightd_has_available_keys', 'BOOLEAN', 'NULLABLE', '', ())]"
      ]
     },
     "execution_count": 26,
     "metadata": {},
     "output_type": "execute_result"
    }
   ],
   "source": [
    "#bikeshare_station_status\n",
    "table = 'bigquery-public-data.san_francisco_bikeshare.bikeshare_station_status'\n",
    "get_schema(table)"
   ]
  },
  {
   "cell_type": "code",
   "execution_count": 27,
   "metadata": {},
   "outputs": [
    {
     "data": {
      "text/plain": [
       "[SchemaField('trip_id', 'INTEGER', 'REQUIRED', 'Numeric ID of bike trip', ()),\n",
       " SchemaField('duration_sec', 'INTEGER', 'NULLABLE', 'Time of trip in seconds', ()),\n",
       " SchemaField('start_date', 'TIMESTAMP', 'NULLABLE', 'Start date of trip with date and time, in PST', ()),\n",
       " SchemaField('start_station_name', 'STRING', 'NULLABLE', 'Station name of start station', ()),\n",
       " SchemaField('start_station_id', 'INTEGER', 'NULLABLE', 'Numeric reference for start station', ()),\n",
       " SchemaField('end_date', 'TIMESTAMP', 'NULLABLE', 'End date of trip with date and time, in PST', ()),\n",
       " SchemaField('end_station_name', 'STRING', 'NULLABLE', 'Station name for end station', ()),\n",
       " SchemaField('end_station_id', 'INTEGER', 'NULLABLE', 'Numeric reference for end station', ()),\n",
       " SchemaField('bike_number', 'INTEGER', 'NULLABLE', 'ID of bike used', ()),\n",
       " SchemaField('zip_code', 'STRING', 'NULLABLE', 'Home zip code of subscriber (customers can choose to manually enter zip at kiosk however data is unreliable)', ()),\n",
       " SchemaField('subscriber_type', 'STRING', 'NULLABLE', 'Subscriber = annual or 30-day member; Customer = 24-hour or 3-day member', ()),\n",
       " SchemaField('c_subscription_type', 'STRING', 'NULLABLE', '', ()),\n",
       " SchemaField('start_station_latitude', 'FLOAT', 'NULLABLE', '', ()),\n",
       " SchemaField('start_station_longitude', 'FLOAT', 'NULLABLE', '', ()),\n",
       " SchemaField('end_station_latitude', 'FLOAT', 'NULLABLE', '', ()),\n",
       " SchemaField('end_station_longitude', 'FLOAT', 'NULLABLE', '', ()),\n",
       " SchemaField('member_birth_year', 'INTEGER', 'NULLABLE', '', ()),\n",
       " SchemaField('member_gender', 'STRING', 'NULLABLE', '', ()),\n",
       " SchemaField('bike_share_for_all_trip', 'STRING', 'NULLABLE', '', ()),\n",
       " SchemaField('start_station_geom', 'GEOGRAPHY', 'NULLABLE', '', ()),\n",
       " SchemaField('end_station_geom', 'GEOGRAPHY', 'NULLABLE', '', ())]"
      ]
     },
     "execution_count": 27,
     "metadata": {},
     "output_type": "execute_result"
    }
   ],
   "source": [
    "#bikeshare_trips\n",
    "table = 'bigquery-public-data.san_francisco_bikeshare.bikeshare_trips'\n",
    "get_schema(table)"
   ]
  },
  {
   "cell_type": "markdown",
   "metadata": {},
   "source": [
    "So when we take a look at the schemas, we can see that each table gives us some different information. A few things that jump out:\n",
    "* We get some interesting information from the `station_info` table regarding payment types. It could be interesting to look if stations with different payment types are associated with more or less rides.\n",
    "* The `bikeshare_trips` table will give us information around ride-by-ride stats and has unique identifiers around customers/members that use them.\n",
    "    * We have additional information for members, but not for customers\n",
    "    * This will allow us to take a look at where popular routes might be\n",
    "    \n",
    "At this point, we can probably start looking at doing some queries for some explorative work, and seeing where we might be able to answer questions for real business impact."
   ]
  },
  {
   "cell_type": "code",
   "execution_count": null,
   "metadata": {},
   "outputs": [],
   "source": [
    "# q1"
   ]
  },
  {
   "cell_type": "code",
   "execution_count": null,
   "metadata": {},
   "outputs": [],
   "source": []
  },
  {
   "cell_type": "code",
   "execution_count": null,
   "metadata": {},
   "outputs": [],
   "source": [
    "QUERY = (\n",
    "    \"\"\"\n",
    "    SELECT\n",
    "      EXTRACT(YEAR\n",
    "      FROM\n",
    "        start_date) AS year,\n",
    "      ROUND(AVG(duration_sec/60), 2) AS avg_duration_min,\n",
    "      COUNT(*) AS yearly_trips\n",
    "    FROM\n",
    "      `bigquery-public-data.san_francisco_bikeshare.bikeshare_trips`\n",
    "    GROUP BY\n",
    "      YEAR\n",
    "    ORDER BY\n",
    "      YEAR DESC\n",
    "    \"\"\")\n",
    "\n",
    "ret_df = client.query(QUERY).result().to_dataframe()\n",
    "ret_df"
   ]
  }
 ],
 "metadata": {
  "kernelspec": {
   "display_name": "Python 3",
   "language": "python",
   "name": "python3"
  },
  "language_info": {
   "codemirror_mode": {
    "name": "ipython",
    "version": 3
   },
   "file_extension": ".py",
   "mimetype": "text/x-python",
   "name": "python",
   "nbconvert_exporter": "python",
   "pygments_lexer": "ipython3",
   "version": "3.7.3"
  }
 },
 "nbformat": 4,
 "nbformat_minor": 2
}
